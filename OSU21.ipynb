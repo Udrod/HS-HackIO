{
  "nbformat": 4,
  "nbformat_minor": 0,
  "metadata": {
    "colab": {
      "name": "OSU21",
      "provenance": [],
      "collapsed_sections": [],
      "toc_visible": true
    },
    "kernelspec": {
      "name": "python3",
      "display_name": "Python 3"
    }
  },
  "cells": [
    {
      "cell_type": "markdown",
      "metadata": {
        "id": "E5cLjkcS4UMM"
      },
      "source": [
        "#Link Kaggle"
      ]
    },
    {
      "cell_type": "code",
      "metadata": {
        "colab": {
          "base_uri": "https://localhost:8080/"
        },
        "id": "HZ-wZb_B4Oa5",
        "outputId": "ecca0e3b-19f8-43c0-9aca-1a5bf3a72b1b"
      },
      "source": [
        "from google.colab import drive\n",
        "drive.mount('/content/gdrive')"
      ],
      "execution_count": 642,
      "outputs": [
        {
          "output_type": "stream",
          "text": [
            "Drive already mounted at /content/gdrive; to attempt to forcibly remount, call drive.mount(\"/content/gdrive\", force_remount=True).\n"
          ],
          "name": "stdout"
        }
      ]
    },
    {
      "cell_type": "markdown",
      "metadata": {
        "id": "QKZZl77DTs40"
      },
      "source": [
        "#Imports/Downloads"
      ]
    },
    {
      "cell_type": "code",
      "metadata": {
        "id": "LfGAhNmTTxNV"
      },
      "source": [
        "import pandas as pd\n",
        "import numpy as np\n",
        "import matplotlib.pyplot as plt\t\n",
        "import pandas\n",
        "from sklearn.metrics import classification_report\n",
        "from sklearn.metrics import confusion_matrix\n",
        "from sklearn.metrics import accuracy_score\n",
        "from sklearn.model_selection import train_test_split\n",
        "from sklearn.neighbors import KNeighborsClassifier\n",
        "from sklearn.ensemble import RandomForestClassifier"
      ],
      "execution_count": 643,
      "outputs": []
    },
    {
      "cell_type": "markdown",
      "metadata": {
        "id": "pS-WCEN9UdXN"
      },
      "source": [
        "#Data Preprocessing"
      ]
    },
    {
      "cell_type": "code",
      "metadata": {
        "colab": {
          "base_uri": "https://localhost:8080/",
          "height": 219
        },
        "id": "FUSY1hD--OwN",
        "outputId": "0f5790f8-61e4-4ea0-ca3f-20517923128b"
      },
      "source": [
        "df = pd.read_csv('/content/gdrive/MyDrive/io21/sleepdata.csv', header=0, sep=';', quotechar='\"')\n",
        "df = df.drop(columns=['Start', 'End','Sleep Notes','Activity (steps)'])\n",
        "print(df.shape)\n",
        "df.head()"
      ],
      "execution_count": 644,
      "outputs": [
        {
          "output_type": "stream",
          "text": [
            "(887, 4)\n"
          ],
          "name": "stdout"
        },
        {
          "output_type": "execute_result",
          "data": {
            "application/vnd.google.colaboratory.module+javascript": "\n      import \"https://ssl.gstatic.com/colaboratory/data_table/a6224c040fa35dcf/data_table.js\";\n\n      window.createDataTable({\n        data: [[{\n            'v': 0,\n            'f': \"0\",\n        },\n\"100%\",\n\"8:32\",\n\":)\",\n{\n            'v': 59.0,\n            'f': \"59.0\",\n        }],\n [{\n            'v': 1,\n            'f': \"1\",\n        },\n\"3%\",\n\"0:16\",\n\":|\",\n{\n            'v': 72.0,\n            'f': \"72.0\",\n        }],\n [{\n            'v': 2,\n            'f': \"2\",\n        },\n\"98%\",\n\"8:30\",\n\":|\",\n{\n            'v': 57.0,\n            'f': \"57.0\",\n        }],\n [{\n            'v': 3,\n            'f': \"3\",\n        },\n\"65%\",\n\"7:32\",\nNaN,\n{\n            'v': NaN,\n            'f': \"NaN\",\n        }],\n [{\n            'v': 4,\n            'f': \"4\",\n        },\n\"72%\",\n\"6:44\",\n\":)\",\n{\n            'v': 68.0,\n            'f': \"68.0\",\n        }]],\n        columns: [[\"number\", \"index\"], [\"string\", \"Sleep quality\"], [\"string\", \"Time in bed\"], [\"string\", \"Wake up\"], [\"number\", \"Heart rate\"]],\n        columnOptions: [{\"width\": \"1px\", \"className\": \"index_column\"}],\n        rowsPerPage: 25,\n        helpUrl: \"https://colab.research.google.com/notebooks/data_table.ipynb\",\n        suppressOutputScrolling: true,\n        minimumWidth: undefined,\n      });\n    ",
            "text/html": [
              "<div>\n",
              "<style scoped>\n",
              "    .dataframe tbody tr th:only-of-type {\n",
              "        vertical-align: middle;\n",
              "    }\n",
              "\n",
              "    .dataframe tbody tr th {\n",
              "        vertical-align: top;\n",
              "    }\n",
              "\n",
              "    .dataframe thead th {\n",
              "        text-align: right;\n",
              "    }\n",
              "</style>\n",
              "<table border=\"1\" class=\"dataframe\">\n",
              "  <thead>\n",
              "    <tr style=\"text-align: right;\">\n",
              "      <th></th>\n",
              "      <th>Sleep quality</th>\n",
              "      <th>Time in bed</th>\n",
              "      <th>Wake up</th>\n",
              "      <th>Heart rate</th>\n",
              "    </tr>\n",
              "  </thead>\n",
              "  <tbody>\n",
              "    <tr>\n",
              "      <th>0</th>\n",
              "      <td>100%</td>\n",
              "      <td>8:32</td>\n",
              "      <td>:)</td>\n",
              "      <td>59.0</td>\n",
              "    </tr>\n",
              "    <tr>\n",
              "      <th>1</th>\n",
              "      <td>3%</td>\n",
              "      <td>0:16</td>\n",
              "      <td>:|</td>\n",
              "      <td>72.0</td>\n",
              "    </tr>\n",
              "    <tr>\n",
              "      <th>2</th>\n",
              "      <td>98%</td>\n",
              "      <td>8:30</td>\n",
              "      <td>:|</td>\n",
              "      <td>57.0</td>\n",
              "    </tr>\n",
              "    <tr>\n",
              "      <th>3</th>\n",
              "      <td>65%</td>\n",
              "      <td>7:32</td>\n",
              "      <td>NaN</td>\n",
              "      <td>NaN</td>\n",
              "    </tr>\n",
              "    <tr>\n",
              "      <th>4</th>\n",
              "      <td>72%</td>\n",
              "      <td>6:44</td>\n",
              "      <td>:)</td>\n",
              "      <td>68.0</td>\n",
              "    </tr>\n",
              "  </tbody>\n",
              "</table>\n",
              "</div>"
            ],
            "text/plain": [
              "  Sleep quality Time in bed Wake up  Heart rate\n",
              "0          100%        8:32      :)        59.0\n",
              "1            3%        0:16      :|        72.0\n",
              "2           98%        8:30      :|        57.0\n",
              "3           65%        7:32     NaN         NaN\n",
              "4           72%        6:44      :)        68.0"
            ]
          },
          "metadata": {
            "tags": []
          },
          "execution_count": 644
        }
      ]
    },
    {
      "cell_type": "code",
      "metadata": {
        "colab": {
          "base_uri": "https://localhost:8080/"
        },
        "id": "9rfTpmTIUwRB",
        "outputId": "3bdad6dd-0609-48db-c7f7-7a5bcb75ed72"
      },
      "source": [
        "df.info()"
      ],
      "execution_count": 645,
      "outputs": [
        {
          "output_type": "stream",
          "text": [
            "<class 'pandas.core.frame.DataFrame'>\n",
            "RangeIndex: 887 entries, 0 to 886\n",
            "Data columns (total 4 columns):\n",
            " #   Column         Non-Null Count  Dtype  \n",
            "---  ------         --------------  -----  \n",
            " 0   Sleep quality  887 non-null    object \n",
            " 1   Time in bed    887 non-null    object \n",
            " 2   Wake up        246 non-null    object \n",
            " 3   Heart rate     162 non-null    float64\n",
            "dtypes: float64(1), object(3)\n",
            "memory usage: 27.8+ KB\n"
          ],
          "name": "stdout"
        }
      ]
    },
    {
      "cell_type": "code",
      "metadata": {
        "id": "8EmUX_YpcrFM"
      },
      "source": [
        "df['Sleep quality'] = df['Sleep quality'].map(lambda x: x.rstrip('%'))"
      ],
      "execution_count": 646,
      "outputs": []
    },
    {
      "cell_type": "code",
      "metadata": {
        "colab": {
          "base_uri": "https://localhost:8080/",
          "height": 200
        },
        "id": "sBrJZgO0btLC",
        "outputId": "d9f60a1a-9c9d-45c9-8127-09744258406a"
      },
      "source": [
        "time = pd.DatetimeIndex(df['Time in bed'])\n",
        "df['Time in bed'] = df['Time in bed'].str.split(':').apply(lambda x: int(x[0]) * 60 + int(x[1]))\n",
        "df.head()"
      ],
      "execution_count": 647,
      "outputs": [
        {
          "output_type": "execute_result",
          "data": {
            "application/vnd.google.colaboratory.module+javascript": "\n      import \"https://ssl.gstatic.com/colaboratory/data_table/a6224c040fa35dcf/data_table.js\";\n\n      window.createDataTable({\n        data: [[{\n            'v': 0,\n            'f': \"0\",\n        },\n\"100\",\n{\n            'v': 512,\n            'f': \"512\",\n        },\n\":)\",\n{\n            'v': 59.0,\n            'f': \"59.0\",\n        }],\n [{\n            'v': 1,\n            'f': \"1\",\n        },\n\"3\",\n{\n            'v': 16,\n            'f': \"16\",\n        },\n\":|\",\n{\n            'v': 72.0,\n            'f': \"72.0\",\n        }],\n [{\n            'v': 2,\n            'f': \"2\",\n        },\n\"98\",\n{\n            'v': 510,\n            'f': \"510\",\n        },\n\":|\",\n{\n            'v': 57.0,\n            'f': \"57.0\",\n        }],\n [{\n            'v': 3,\n            'f': \"3\",\n        },\n\"65\",\n{\n            'v': 452,\n            'f': \"452\",\n        },\nNaN,\n{\n            'v': NaN,\n            'f': \"NaN\",\n        }],\n [{\n            'v': 4,\n            'f': \"4\",\n        },\n\"72\",\n{\n            'v': 404,\n            'f': \"404\",\n        },\n\":)\",\n{\n            'v': 68.0,\n            'f': \"68.0\",\n        }]],\n        columns: [[\"number\", \"index\"], [\"string\", \"Sleep quality\"], [\"number\", \"Time in bed\"], [\"string\", \"Wake up\"], [\"number\", \"Heart rate\"]],\n        columnOptions: [{\"width\": \"1px\", \"className\": \"index_column\"}],\n        rowsPerPage: 25,\n        helpUrl: \"https://colab.research.google.com/notebooks/data_table.ipynb\",\n        suppressOutputScrolling: true,\n        minimumWidth: undefined,\n      });\n    ",
            "text/html": [
              "<div>\n",
              "<style scoped>\n",
              "    .dataframe tbody tr th:only-of-type {\n",
              "        vertical-align: middle;\n",
              "    }\n",
              "\n",
              "    .dataframe tbody tr th {\n",
              "        vertical-align: top;\n",
              "    }\n",
              "\n",
              "    .dataframe thead th {\n",
              "        text-align: right;\n",
              "    }\n",
              "</style>\n",
              "<table border=\"1\" class=\"dataframe\">\n",
              "  <thead>\n",
              "    <tr style=\"text-align: right;\">\n",
              "      <th></th>\n",
              "      <th>Sleep quality</th>\n",
              "      <th>Time in bed</th>\n",
              "      <th>Wake up</th>\n",
              "      <th>Heart rate</th>\n",
              "    </tr>\n",
              "  </thead>\n",
              "  <tbody>\n",
              "    <tr>\n",
              "      <th>0</th>\n",
              "      <td>100</td>\n",
              "      <td>512</td>\n",
              "      <td>:)</td>\n",
              "      <td>59.0</td>\n",
              "    </tr>\n",
              "    <tr>\n",
              "      <th>1</th>\n",
              "      <td>3</td>\n",
              "      <td>16</td>\n",
              "      <td>:|</td>\n",
              "      <td>72.0</td>\n",
              "    </tr>\n",
              "    <tr>\n",
              "      <th>2</th>\n",
              "      <td>98</td>\n",
              "      <td>510</td>\n",
              "      <td>:|</td>\n",
              "      <td>57.0</td>\n",
              "    </tr>\n",
              "    <tr>\n",
              "      <th>3</th>\n",
              "      <td>65</td>\n",
              "      <td>452</td>\n",
              "      <td>NaN</td>\n",
              "      <td>NaN</td>\n",
              "    </tr>\n",
              "    <tr>\n",
              "      <th>4</th>\n",
              "      <td>72</td>\n",
              "      <td>404</td>\n",
              "      <td>:)</td>\n",
              "      <td>68.0</td>\n",
              "    </tr>\n",
              "  </tbody>\n",
              "</table>\n",
              "</div>"
            ],
            "text/plain": [
              "  Sleep quality  Time in bed Wake up  Heart rate\n",
              "0           100          512      :)        59.0\n",
              "1             3           16      :|        72.0\n",
              "2            98          510      :|        57.0\n",
              "3            65          452     NaN         NaN\n",
              "4            72          404      :)        68.0"
            ]
          },
          "metadata": {
            "tags": []
          },
          "execution_count": 647
        }
      ]
    },
    {
      "cell_type": "code",
      "metadata": {
        "colab": {
          "base_uri": "https://localhost:8080/",
          "height": 200
        },
        "id": "d7PSjjwxQuaJ",
        "outputId": "5d650447-0ae7-46a3-f20a-b561a8370e0a"
      },
      "source": [
        "df['Heart rate'].fillna((df['Heart rate'].mean()), inplace=True)\n",
        "df['Wake up'].fillna('0', inplace=True)\n",
        "\n",
        "def wakeChange(x):\n",
        "  if x == ':)':\n",
        "    return 1\n",
        "  elif x == ':|':\n",
        "    return -1\n",
        "  else:\n",
        "    return 0\n",
        "\n",
        "df['Wake up'] = df['Wake up'].apply(wakeChange)\n",
        "\n",
        "dftrain = df[abs(df['Wake up']) == 1] \n",
        "#print(dftrain['Wake up'].values)\n",
        "\n",
        "export = df[df['Wake up'] == 0] \n",
        "export = export.reset_index()\n",
        "export = export.drop(columns=['Wake up','index'])\n",
        "export.head()"
      ],
      "execution_count": 648,
      "outputs": [
        {
          "output_type": "execute_result",
          "data": {
            "application/vnd.google.colaboratory.module+javascript": "\n      import \"https://ssl.gstatic.com/colaboratory/data_table/a6224c040fa35dcf/data_table.js\";\n\n      window.createDataTable({\n        data: [[{\n            'v': 0,\n            'f': \"0\",\n        },\n\"65\",\n{\n            'v': 452,\n            'f': \"452\",\n        },\n{\n            'v': 60.60493827160494,\n            'f': \"60.60493827160494\",\n        }],\n [{\n            'v': 1,\n            'f': \"1\",\n        },\n\"78\",\n{\n            'v': 434,\n            'f': \"434\",\n        },\n{\n            'v': 60.60493827160494,\n            'f': \"60.60493827160494\",\n        }],\n [{\n            'v': 2,\n            'f': \"2\",\n        },\n\"70\",\n{\n            'v': 325,\n            'f': \"325\",\n        },\n{\n            'v': 60.60493827160494,\n            'f': \"60.60493827160494\",\n        }],\n [{\n            'v': 3,\n            'f': \"3\",\n        },\n\"78\",\n{\n            'v': 458,\n            'f': \"458\",\n        },\n{\n            'v': 60.60493827160494,\n            'f': \"60.60493827160494\",\n        }],\n [{\n            'v': 4,\n            'f': \"4\",\n        },\n\"75\",\n{\n            'v': 468,\n            'f': \"468\",\n        },\n{\n            'v': 60.60493827160494,\n            'f': \"60.60493827160494\",\n        }]],\n        columns: [[\"number\", \"index\"], [\"string\", \"Sleep quality\"], [\"number\", \"Time in bed\"], [\"number\", \"Heart rate\"]],\n        columnOptions: [{\"width\": \"1px\", \"className\": \"index_column\"}],\n        rowsPerPage: 25,\n        helpUrl: \"https://colab.research.google.com/notebooks/data_table.ipynb\",\n        suppressOutputScrolling: true,\n        minimumWidth: undefined,\n      });\n    ",
            "text/html": [
              "<div>\n",
              "<style scoped>\n",
              "    .dataframe tbody tr th:only-of-type {\n",
              "        vertical-align: middle;\n",
              "    }\n",
              "\n",
              "    .dataframe tbody tr th {\n",
              "        vertical-align: top;\n",
              "    }\n",
              "\n",
              "    .dataframe thead th {\n",
              "        text-align: right;\n",
              "    }\n",
              "</style>\n",
              "<table border=\"1\" class=\"dataframe\">\n",
              "  <thead>\n",
              "    <tr style=\"text-align: right;\">\n",
              "      <th></th>\n",
              "      <th>Sleep quality</th>\n",
              "      <th>Time in bed</th>\n",
              "      <th>Heart rate</th>\n",
              "    </tr>\n",
              "  </thead>\n",
              "  <tbody>\n",
              "    <tr>\n",
              "      <th>0</th>\n",
              "      <td>65</td>\n",
              "      <td>452</td>\n",
              "      <td>60.604938</td>\n",
              "    </tr>\n",
              "    <tr>\n",
              "      <th>1</th>\n",
              "      <td>78</td>\n",
              "      <td>434</td>\n",
              "      <td>60.604938</td>\n",
              "    </tr>\n",
              "    <tr>\n",
              "      <th>2</th>\n",
              "      <td>70</td>\n",
              "      <td>325</td>\n",
              "      <td>60.604938</td>\n",
              "    </tr>\n",
              "    <tr>\n",
              "      <th>3</th>\n",
              "      <td>78</td>\n",
              "      <td>458</td>\n",
              "      <td>60.604938</td>\n",
              "    </tr>\n",
              "    <tr>\n",
              "      <th>4</th>\n",
              "      <td>75</td>\n",
              "      <td>468</td>\n",
              "      <td>60.604938</td>\n",
              "    </tr>\n",
              "  </tbody>\n",
              "</table>\n",
              "</div>"
            ],
            "text/plain": [
              "  Sleep quality  Time in bed  Heart rate\n",
              "0            65          452   60.604938\n",
              "1            78          434   60.604938\n",
              "2            70          325   60.604938\n",
              "3            78          458   60.604938\n",
              "4            75          468   60.604938"
            ]
          },
          "metadata": {
            "tags": []
          },
          "execution_count": 648
        }
      ]
    },
    {
      "cell_type": "code",
      "metadata": {
        "id": "YLNGlLAUpD81"
      },
      "source": [
        ""
      ],
      "execution_count": 648,
      "outputs": []
    },
    {
      "cell_type": "markdown",
      "metadata": {
        "id": "9_24A5fiA6-i"
      },
      "source": [
        "#Train Model"
      ]
    },
    {
      "cell_type": "code",
      "metadata": {
        "id": "d8UpzuDGTQGp",
        "colab": {
          "base_uri": "https://localhost:8080/"
        },
        "outputId": "ad5c08eb-aa7f-4ca5-cda4-5a7590630cbb"
      },
      "source": [
        "y = dftrain.pop('Wake up')\n",
        "X = dftrain\n",
        "print(y.shape)\n",
        "print(X.shape)\n",
        "X_train,X_test,y_train,y_test = train_test_split(X.index,y,test_size=0.2)\n"
      ],
      "execution_count": 649,
      "outputs": [
        {
          "output_type": "stream",
          "text": [
            "(245,)\n",
            "(245, 3)\n"
          ],
          "name": "stdout"
        }
      ]
    },
    {
      "cell_type": "code",
      "metadata": {
        "colab": {
          "base_uri": "https://localhost:8080/"
        },
        "id": "NbEL_KJZT6Kp",
        "outputId": "e046c934-4c81-4ef1-8090-e9dbe407d4a9"
      },
      "source": [
        "model = KNeighborsClassifier(3)\n",
        "model.fit(X_train.values.reshape(-1,1),y_train)\n",
        "pred = model.predict(X_test.values.reshape(-1,1))\n",
        "accuracy = accuracy_score(y_test,pred)\n",
        "print('accuracy: ', accuracy*100, '%')"
      ],
      "execution_count": 650,
      "outputs": [
        {
          "output_type": "stream",
          "text": [
            "accuracy:  87.75510204081633 %\n"
          ],
          "name": "stdout"
        }
      ]
    },
    {
      "cell_type": "code",
      "metadata": {
        "colab": {
          "base_uri": "https://localhost:8080/"
        },
        "id": "w_M9p41SUGcj",
        "outputId": "21cca2ea-cb5a-4840-a6f0-964749d845d9"
      },
      "source": [
        "confusion_matrix(y_test, pred, labels = [-1,1])"
      ],
      "execution_count": 651,
      "outputs": [
        {
          "output_type": "execute_result",
          "data": {
            "text/plain": [
              "array([[ 2,  4],\n",
              "       [ 2, 41]])"
            ]
          },
          "metadata": {
            "tags": []
          },
          "execution_count": 651
        }
      ]
    },
    {
      "cell_type": "markdown",
      "metadata": {
        "id": "7duBjzJAlgA-"
      },
      "source": [
        "#Export"
      ]
    },
    {
      "cell_type": "code",
      "metadata": {
        "colab": {
          "base_uri": "https://localhost:8080/"
        },
        "id": "KwrCHOy9lfi5",
        "outputId": "5606149e-bba4-4d31-e782-fc7fb8e3c8d1"
      },
      "source": [
        "expPred = model.predict(export.values.reshape(-1,1))\n",
        "print(expPred)\n",
        "addExp = pd.Series(expPred)\n",
        "export['pred'] = addExp\n",
        "export.to_json('data.json')"
      ],
      "execution_count": 652,
      "outputs": [
        {
          "output_type": "stream",
          "text": [
            "[ 1 -1  1 ...  1 -1  1]\n"
          ],
          "name": "stdout"
        }
      ]
    }
  ]
}